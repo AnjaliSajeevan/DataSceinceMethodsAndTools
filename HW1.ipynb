{
 "cells": [
  {
   "cell_type": "markdown",
   "metadata": {},
   "source": [
    "\n",
    "INFO6105 Instructor: Dr. Handan Liu\n",
    "\n",
    "Homework 1  \n",
    "\n",
    "Grading: total 100 points.\n"
   ]
  },
  {
   "cell_type": "raw",
   "metadata": {},
   "source": [
    "\n",
    "1. Create the following Numpy Arrays Using Numpy Routines:  total 18 points\n",
    "\n",
    "Refer to: https://numpy.org/doc/stable/reference/routines.array-creation.html\n",
    "          https://numpy.org/doc/stable/reference/random/index.html\n"
   ]
  },
  {
   "cell_type": "raw",
   "metadata": {},
   "source": [
    "1) Create an array of [1, 2, 3].    - 1 point"
   ]
  },
  {
   "cell_type": "code",
   "execution_count": 3,
   "metadata": {},
   "outputs": [
    {
     "name": "stdout",
     "output_type": "stream",
     "text": [
      "[1 2 3]\n"
     ]
    }
   ],
   "source": [
    "import numpy as np\n",
    "arr =np.array([1,2,3])\n",
    "print(arr)"
   ]
  },
  {
   "cell_type": "raw",
   "metadata": {},
   "source": [
    "2) Let x = [1, 2]. Convert it into an array.  - 1 point"
   ]
  },
  {
   "cell_type": "code",
   "execution_count": 5,
   "metadata": {},
   "outputs": [
    {
     "name": "stdout",
     "output_type": "stream",
     "text": [
      "[1, 2]\n"
     ]
    }
   ],
   "source": [
    "import numpy as np\n",
    "x=[1,2]\n",
    "np.asarray(x)\n",
    "print(x)"
   ]
  },
  {
   "cell_type": "raw",
   "metadata": {},
   "source": [
    "3) Create a new array of 3 x 2 float numbers, filled with ones.  - 1 point"
   ]
  },
  {
   "cell_type": "code",
   "execution_count": 6,
   "metadata": {},
   "outputs": [
    {
     "data": {
      "text/plain": [
       "array([[1., 1.],\n",
       "       [1., 1.],\n",
       "       [1., 1.]])"
      ]
     },
     "execution_count": 6,
     "metadata": {},
     "output_type": "execute_result"
    }
   ],
   "source": [
    "import numpy as np\n",
    "np.ones((3, 2))\n"
   ]
  },
  {
   "cell_type": "raw",
   "metadata": {},
   "source": [
    "4) Create a 3 x 3 array with ones on the diagonal and zeros elsewhere.  - 1 point"
   ]
  },
  {
   "cell_type": "code",
   "execution_count": 9,
   "metadata": {},
   "outputs": [
    {
     "name": "stdout",
     "output_type": "stream",
     "text": [
      "[[1 0 0]\n",
      " [0 1 0]\n",
      " [0 0 1]]\n"
     ]
    }
   ],
   "source": [
    "import numpy as np\n",
    "a=np.zeros((3,3),int)\n",
    "np.fill_diagonal(a,1)\n",
    "print(a)"
   ]
  },
  {
   "cell_type": "raw",
   "metadata": {},
   "source": [
    "5) Create a new array of 2 x 5 uints, filled with 6.   - 1 point"
   ]
  },
  {
   "cell_type": "code",
   "execution_count": 11,
   "metadata": {},
   "outputs": [
    {
     "name": "stdout",
     "output_type": "stream",
     "text": [
      "[[6 6 6 6 6]\n",
      " [6 6 6 6 6]]\n"
     ]
    }
   ],
   "source": [
    "import numpy as np\n",
    "a=np.full((2,5),6)\n",
    "print(a)"
   ]
  },
  {
   "cell_type": "raw",
   "metadata": {},
   "source": [
    "6) Create an array of 2, 4, 6, 8, ..., 98, 100.   - 1 point"
   ]
  },
  {
   "cell_type": "code",
   "execution_count": 16,
   "metadata": {},
   "outputs": [
    {
     "name": "stdout",
     "output_type": "stream",
     "text": [
      "[  2   4   6   8  10  12  14  16  18  20  22  24  26  28  30  32  34  36\n",
      "  38  40  42  44  46  48  50  52  54  56  58  60  62  64  66  68  70  72\n",
      "  74  76  78  80  82  84  86  88  90  92  94  96  98 100]\n"
     ]
    }
   ],
   "source": [
    "import numpy as np\n",
    "a=np.arange(2,101,2)\n",
    "print(a)"
   ]
  },
  {
   "cell_type": "raw",
   "metadata": {},
   "source": [
    "7) create an array of 10 zeros; another array of 10 fives. - 2 points"
   ]
  },
  {
   "cell_type": "code",
   "execution_count": 17,
   "metadata": {},
   "outputs": [
    {
     "name": "stdout",
     "output_type": "stream",
     "text": [
      "[0. 0. 0. 0. 0. 0. 0. 0. 0. 0.]\n",
      "[5. 5. 5. 5. 5. 5. 5. 5. 5. 5.]\n"
     ]
    }
   ],
   "source": [
    "import numpy as np\n",
    "a=np.zeros(10)\n",
    "y=np.ones(10)*5\n",
    "print(a)\n",
    "print(y)"
   ]
  },
  {
   "cell_type": "raw",
   "metadata": {},
   "source": [
    "8) create a 3x3x3 array filled with arbitrary values. - 1 points"
   ]
  },
  {
   "cell_type": "code",
   "execution_count": 2,
   "metadata": {},
   "outputs": [
    {
     "data": {
      "text/plain": [
       "array([[[5, 0, 3],\n",
       "        [3, 7, 9],\n",
       "        [3, 5, 2]],\n",
       "\n",
       "       [[4, 7, 6],\n",
       "        [8, 8, 1],\n",
       "        [6, 7, 7]],\n",
       "\n",
       "       [[8, 1, 5],\n",
       "        [9, 8, 9],\n",
       "        [4, 3, 0]]])"
      ]
     },
     "execution_count": 2,
     "metadata": {},
     "output_type": "execute_result"
    }
   ],
   "source": [
    "import numpy as np\n",
    "np.random.seed(0)  \n",
    "x = np.random.randint(10, size=(3,3,3))  \n",
    "x"
   ]
  },
  {
   "cell_type": "raw",
   "metadata": {},
   "source": [
    "9) create a 3x4 matrix filled with values from 10 to 21 (inclusive). - 4 ponits"
   ]
  },
  {
   "cell_type": "code",
   "execution_count": 26,
   "metadata": {},
   "outputs": [
    {
     "name": "stdout",
     "output_type": "stream",
     "text": [
      "[[15 10 13 21]\n",
      " [13 17 19 13]\n",
      " [15 12 14 17]]\n"
     ]
    }
   ],
   "source": [
    "import numpy as np\n",
    "np.random.seed(0)  \n",
    "x = np.random.randint(10,22, size=(3,4))\n",
    "print(x)"
   ]
  },
  {
   "cell_type": "raw",
   "metadata": {},
   "source": [
    "10) Create an 4x4 matrix in which 0 and 1 are staggered, with zeros on the main diagonal. Please use the numpy \"slicing\" method to realize.\n",
    "     - 5 points\n",
    "[[0. 1. 0. 1.]\n",
    " [1. 0. 1. 0.]\n",
    " [0. 1. 0. 1.]\n",
    " [1. 0. 1. 0.]]     "
   ]
  },
  {
   "cell_type": "code",
   "execution_count": 36,
   "metadata": {},
   "outputs": [
    {
     "name": "stdout",
     "output_type": "stream",
     "text": [
      "[[0. 1. 0. 1. 0.]\n",
      " [1. 0. 1. 0. 1.]\n",
      " [0. 1. 0. 1. 0.]\n",
      " [1. 0. 1. 0. 1.]\n",
      " [0. 1. 0. 1. 0.]]\n"
     ]
    }
   ],
   "source": [
    "import numpy as np\n",
    "a=np.zeros((5,5))\n",
    "a[::2, 1::2] = 1\n",
    "a[1::2, ::2] = 1\n",
    "print(a)"
   ]
  },
  {
   "cell_type": "raw",
   "metadata": {},
   "source": [
    "\n",
    "2. Numpy Random Number  - total 6 points\n",
    "1) Assign number 10 to the seed of the random generator so that you can get the same value next time.   - 2 point\n",
    "2) Create an array of shape (3, 2) and populate it with random samples from a uniform distribution over [0, 1).  - 2 point\n",
    "3) Create an array of shape (3, 2) and populate it with random integers ranging from 0 to 3 (inclusive) from a discrete uniform distribution. \n",
    "    - 2 points\n"
   ]
  },
  {
   "cell_type": "code",
   "execution_count": 49,
   "metadata": {},
   "outputs": [
    {
     "data": {
      "text/plain": [
       "array([9, 4, 0, 1, 9, 0, 1, 8, 9, 0])"
      ]
     },
     "execution_count": 49,
     "metadata": {},
     "output_type": "execute_result"
    }
   ],
   "source": [
    "import numpy as np\n",
    "np.random.seed(10) \n",
    "np.random.randint(10,size=10)"
   ]
  },
  {
   "cell_type": "code",
   "execution_count": 61,
   "metadata": {},
   "outputs": [
    {
     "data": {
      "text/plain": [
       "array([[0.5488135 , 0.71518937],\n",
       "       [0.60276338, 0.54488318],\n",
       "       [0.4236548 , 0.64589411]])"
      ]
     },
     "execution_count": 61,
     "metadata": {},
     "output_type": "execute_result"
    }
   ],
   "source": [
    "import numpy as np\n",
    "np.random.seed(0)\n",
    "np.random.uniform(0,1,size=(3, 2))  "
   ]
  },
  {
   "cell_type": "code",
   "execution_count": 1,
   "metadata": {},
   "outputs": [
    {
     "data": {
      "text/plain": [
       "array([[2.19525402, 2.86075747],\n",
       "       [2.4110535 , 2.17953273],\n",
       "       [1.6946192 , 2.58357645]])"
      ]
     },
     "execution_count": 1,
     "metadata": {},
     "output_type": "execute_result"
    }
   ],
   "source": [
    "import numpy as np\n",
    "np.random.seed(0)\n",
    "np.random.uniform(0,4,size=(3, 2))  \n"
   ]
  },
  {
   "cell_type": "raw",
   "metadata": {},
   "source": [
    "\n",
    "3. Operate on Numpy Arrays: total 13 points\n"
   ]
  },
  {
   "cell_type": "raw",
   "metadata": {},
   "source": [
    "1) Let x be an array [1, 2, 3, ..., 9]. Split x into 3 arrays, each of which has 4, 2, and 3 elements in the original order. - 2 points"
   ]
  },
  {
   "cell_type": "code",
   "execution_count": 3,
   "metadata": {},
   "outputs": [
    {
     "name": "stdout",
     "output_type": "stream",
     "text": [
      "[1 2 3 4 5 6 7 8 9]\n"
     ]
    },
    {
     "data": {
      "text/plain": [
       "[array([1, 2, 3, 4]), array([5, 6]), array([7, 8, 9]), array([], dtype=int32)]"
      ]
     },
     "execution_count": 3,
     "metadata": {},
     "output_type": "execute_result"
    }
   ],
   "source": [
    "import numpy as np\n",
    "arr=np.arange(1,10,1)\n",
    "print(arr)\n",
    "np.split(arr,[4,6,10])"
   ]
  },
  {
   "cell_type": "raw",
   "metadata": {},
   "source": [
    "2) Given an array    - 4 points\n",
    "[[ 0., 1., 2., 3.],\n",
    "[ 4., 5., 6., 7.],\n",
    "[ 8., 9., 10., 11.],\n",
    "[ 12., 13., 14., 15.]].\n",
    "Split it into two arrays along the second axis."
   ]
  },
  {
   "cell_type": "code",
   "execution_count": 54,
   "metadata": {},
   "outputs": [
    {
     "name": "stdout",
     "output_type": "stream",
     "text": [
      "[[ 0.  1.]\n",
      " [ 4.  5.]\n",
      " [ 8.  9.]\n",
      " [12. 13.]]\n",
      "[[ 2.  3.]\n",
      " [ 6.  7.]\n",
      " [10. 11.]\n",
      " [14. 15.]]\n"
     ]
    }
   ],
   "source": [
    "import numpy as np\n",
    "arr = np.arange(16.0).reshape((4, 4))\n",
    "left,right=np.hsplit(arr,[2])\n",
    "print(left)\n",
    "print(right)"
   ]
  },
  {
   "cell_type": "raw",
   "metadata": {},
   "source": [
    "3) Given an array: [[5,10,15],[20,25,30],[35,40,45]]   - 3 points\n",
    "(1) Slicing to get the sub-array [[10,15],[25,30]]\n",
    "(2) Getting individual element value \"20\""
   ]
  },
  {
   "cell_type": "code",
   "execution_count": 6,
   "metadata": {},
   "outputs": [
    {
     "data": {
      "text/plain": [
       "array([[10, 15],\n",
       "       [25, 30]])"
      ]
     },
     "execution_count": 6,
     "metadata": {},
     "output_type": "execute_result"
    }
   ],
   "source": [
    "import numpy as np\n",
    "arr=np.array([[5,10,15],[20,25,30],[35,40,45]] )\n",
    "row = np.array([[0, 0],[1, 1]])\n",
    "column = np.array([[1, 2],[1, 2]])\n",
    "arr[row, column]\n"
   ]
  },
  {
   "cell_type": "code",
   "execution_count": 66,
   "metadata": {},
   "outputs": [
    {
     "data": {
      "text/plain": [
       "20"
      ]
     },
     "execution_count": 66,
     "metadata": {},
     "output_type": "execute_result"
    }
   ],
   "source": [
    "import numpy as np\n",
    "arr=np.array([[5,10,15],[20,25,30],[35,40,45]] )\n",
    "arr[1,0]"
   ]
  },
  {
   "cell_type": "raw",
   "metadata": {},
   "source": [
    "4)  - 4 points\n",
    "Let x be an array\n",
    "[[ 1 2 3]\n",
    " [ 4 5 6]].\n",
    "\n",
    "and y be an array\n",
    "[[ 7 8 9]\n",
    " [10 11 12]].\n",
    "\n",
    "Concatenate x and y so that a new array looks like\n",
    "[[1, 2, 3, 7, 8, 9],\n",
    " [4, 5, 6, 10, 11, 12]]."
   ]
  },
  {
   "cell_type": "code",
   "execution_count": 108,
   "metadata": {},
   "outputs": [
    {
     "data": {
      "text/plain": [
       "array([[ 1,  2,  3,  7,  8,  9],\n",
       "       [ 4,  5,  6, 10, 11, 12]])"
      ]
     },
     "execution_count": 108,
     "metadata": {},
     "output_type": "execute_result"
    }
   ],
   "source": [
    "import numpy as np\n",
    "x = np.array([[1, 2, 3],[4,5,6]])\n",
    "y = np.array([[7, 8, 9],[10,11,12]])\n",
    "np.concatenate([x, y],axis=1)"
   ]
  },
  {
   "cell_type": "raw",
   "metadata": {},
   "source": [
    "\n",
    "4. Array Slicing: total 10 points, 2 points each\n",
    "Given an array: \n",
    "array([ 3,  6,  9,  25, 10,  8])\n"
   ]
  },
  {
   "cell_type": "raw",
   "metadata": {},
   "source": [
    "1) To get all elements except the first:"
   ]
  },
  {
   "cell_type": "code",
   "execution_count": 72,
   "metadata": {},
   "outputs": [
    {
     "data": {
      "text/plain": [
       "array([ 6,  9, 25, 10,  8])"
      ]
     },
     "execution_count": 72,
     "metadata": {},
     "output_type": "execute_result"
    }
   ],
   "source": [
    "import numpy as np\n",
    "arr=np.array([ 3,  6,  9,  25, 10,  8])\n",
    "arr[1:]"
   ]
  },
  {
   "cell_type": "raw",
   "metadata": {},
   "source": [
    "2) To get all elements except the last:"
   ]
  },
  {
   "cell_type": "code",
   "execution_count": 73,
   "metadata": {},
   "outputs": [
    {
     "data": {
      "text/plain": [
       "array([ 3,  6,  9, 25, 10])"
      ]
     },
     "execution_count": 73,
     "metadata": {},
     "output_type": "execute_result"
    }
   ],
   "source": [
    "import numpy as np\n",
    "arr=np.array([ 3,  6,  9,  25, 10,  8])\n",
    "arr[:5]"
   ]
  },
  {
   "cell_type": "raw",
   "metadata": {},
   "source": [
    "3) To get every other element of the array (operation from the first element):"
   ]
  },
  {
   "cell_type": "code",
   "execution_count": 76,
   "metadata": {},
   "outputs": [
    {
     "data": {
      "text/plain": [
       "array([ 3,  9, 10])"
      ]
     },
     "execution_count": 76,
     "metadata": {},
     "output_type": "execute_result"
    }
   ],
   "source": [
    "arr=np.array([ 3,  6,  9,  25, 10,  8])\n",
    "arr[0::2]"
   ]
  },
  {
   "cell_type": "raw",
   "metadata": {},
   "source": [
    "4) To get every element of the array (operation from the second element):"
   ]
  },
  {
   "cell_type": "code",
   "execution_count": 77,
   "metadata": {},
   "outputs": [
    {
     "data": {
      "text/plain": [
       "array([ 6, 25,  8])"
      ]
     },
     "execution_count": 77,
     "metadata": {},
     "output_type": "execute_result"
    }
   ],
   "source": [
    "arr=np.array([ 3,  6,  9,  25, 10,  8])\n",
    "arr[1::2]"
   ]
  },
  {
   "cell_type": "raw",
   "metadata": {},
   "source": [
    "5) To reverse the array:"
   ]
  },
  {
   "cell_type": "code",
   "execution_count": 79,
   "metadata": {},
   "outputs": [
    {
     "data": {
      "text/plain": [
       "array([ 8, 10, 25,  9,  6,  3])"
      ]
     },
     "execution_count": 79,
     "metadata": {},
     "output_type": "execute_result"
    }
   ],
   "source": [
    "import numpy as np\n",
    "arr=np.array([ 3,  6,  9,  25, 10,  8])\n",
    "arr[::-1]"
   ]
  },
  {
   "cell_type": "raw",
   "metadata": {},
   "source": [
    "\n",
    "5. Multidimensional Arrays: total 8 points, 2 points each\n"
   ]
  },
  {
   "cell_type": "raw",
   "metadata": {},
   "source": [
    "1) create an array with the components as 0-31 and the shape is (8,4)"
   ]
  },
  {
   "cell_type": "code",
   "execution_count": 2,
   "metadata": {},
   "outputs": [
    {
     "name": "stdout",
     "output_type": "stream",
     "text": [
      "[[ 0.  1.  2.  3.]\n",
      " [ 4.  5.  6.  7.]\n",
      " [ 8.  9. 10. 11.]\n",
      " [12. 13. 14. 15.]\n",
      " [16. 17. 18. 19.]\n",
      " [20. 21. 22. 23.]\n",
      " [24. 25. 26. 27.]\n",
      " [28. 29. 30. 31.]]\n"
     ]
    }
   ],
   "source": [
    "import numpy as np\n",
    "arr = np.arange(32.0).reshape((8, 4))\n",
    "print(arr)"
   ]
  },
  {
   "cell_type": "raw",
   "metadata": {},
   "source": [
    "2) set the 3rd element in the 1st row to 0"
   ]
  },
  {
   "cell_type": "code",
   "execution_count": 3,
   "metadata": {},
   "outputs": [
    {
     "name": "stdout",
     "output_type": "stream",
     "text": [
      "[[ 0.  1.  0.  3.]\n",
      " [ 4.  5.  6.  7.]\n",
      " [ 8.  9. 10. 11.]\n",
      " [12. 13. 14. 15.]\n",
      " [16. 17. 18. 19.]\n",
      " [20. 21. 22. 23.]\n",
      " [24. 25. 26. 27.]\n",
      " [28. 29. 30. 31.]]\n"
     ]
    }
   ],
   "source": [
    "import numpy as np\n",
    "arr = np.arange(32.0).reshape((8, 4))\n",
    "arr[0,2]=0\n",
    "print(arr)"
   ]
  },
  {
   "cell_type": "raw",
   "metadata": {},
   "source": [
    "3)  the second column"
   ]
  },
  {
   "cell_type": "code",
   "execution_count": 7,
   "metadata": {},
   "outputs": [
    {
     "data": {
      "text/plain": [
       "array([ 1.,  5.,  9., 13., 17., 21., 25., 29.])"
      ]
     },
     "execution_count": 7,
     "metadata": {},
     "output_type": "execute_result"
    }
   ],
   "source": [
    "import numpy as np\n",
    "arr = np.arange(32.0).reshape((8, 4))\n",
    "arr[:,1]"
   ]
  },
  {
   "cell_type": "raw",
   "metadata": {},
   "source": [
    "4) select any 3x3 region from the array"
   ]
  },
  {
   "cell_type": "code",
   "execution_count": 7,
   "metadata": {},
   "outputs": [
    {
     "data": {
      "text/plain": [
       "array([[ 5.,  6.,  7.],\n",
       "       [ 9., 10., 11.],\n",
       "       [13., 14., 15.]])"
      ]
     },
     "execution_count": 7,
     "metadata": {},
     "output_type": "execute_result"
    }
   ],
   "source": [
    "import numpy as np\n",
    "arr = np.arange(32.0).reshape((8, 4))\n",
    "arr[1:4,  1:4]\n"
   ]
  },
  {
   "cell_type": "raw",
   "metadata": {},
   "source": [
    "\n",
    "6. Create a random array with 1000 elements and compute the average, variance, standard deviation of the array elements.   - 7 points\n",
    "And print the formatted outputs which keep 5 digits after the decimal point.\n",
    "The output should be the following formatting, for example\n",
    "Average of the array elements is: 0.xxxxx\n",
    "Standard deviation of the array elements: 0.xxxxx\n",
    "Variance of the array elements: 0.xxxxx\n"
   ]
  },
  {
   "cell_type": "code",
   "execution_count": 23,
   "metadata": {},
   "outputs": [
    {
     "name": "stdout",
     "output_type": "stream",
     "text": [
      "Average of the array elements is:  0.48671\n",
      "Standard deviation of the array elements:  0.27897\n",
      "Variance of the array elements:  0.07782\n"
     ]
    }
   ],
   "source": [
    "import numpy as np\n",
    "x=np.random.random(1000)\n",
    "mean=np.round(x.mean(),5)\n",
    "std=np.round(x.std(),5)\n",
    "var=np.round(x.var(),5)\n",
    "print(\"Average of the array elements is: \",mean)\n",
    "print(\"Standard deviation of the array elements: \",std)\n",
    "print(\"Variance of the array elements: \",var)"
   ]
  },
  {
   "cell_type": "raw",
   "metadata": {},
   "source": [
    "7. Broadcasting: 10 points\n",
    "1) Please add the following two arrays according to the 3 rules. You should list the steps according to Rule 1, Rule 2 or Rule 3. See details as the teacher's slides.\n",
    "2) You can reshape the array by np.reshape or 'newaxis'. (each for 5 points)"
   ]
  },
  {
   "cell_type": "raw",
   "metadata": {},
   "source": [
    "# 7-1) \n",
    "a = np.array([0.0, 10.0, 20.0, 30.0])\n",
    "b = np.array([1.0, 2.0, 3.0])\n"
   ]
  },
  {
   "cell_type": "code",
   "execution_count": 12,
   "metadata": {},
   "outputs": [
    {
     "name": "stdout",
     "output_type": "stream",
     "text": [
      "(4,)\n",
      "(3,)\n",
      "[[ 1.  2.  3.]\n",
      " [11. 12. 13.]\n",
      " [21. 22. 23.]\n",
      " [31. 32. 33.]]\n"
     ]
    }
   ],
   "source": [
    "import numpy as np\n",
    "a = np.array([0.0, 10.0, 20.0, 30.0])\n",
    "b = np.array([1.0, 2.0, 3.0])\n",
    "print(a.shape)\n",
    "print(b.shape)\n",
    "a= a[:, np.newaxis] \n",
    "c=a+b\n",
    "print(c)\n"
   ]
  },
  {
   "cell_type": "raw",
   "metadata": {},
   "source": [
    "# 7-2) \n",
    "x = np.arange(4)\n",
    "y = np.ones(5)\n"
   ]
  },
  {
   "cell_type": "code",
   "execution_count": 107,
   "metadata": {},
   "outputs": [
    {
     "data": {
      "text/plain": [
       "array([[1., 1., 1., 1., 1.],\n",
       "       [2., 2., 2., 2., 2.],\n",
       "       [3., 3., 3., 3., 3.],\n",
       "       [4., 4., 4., 4., 4.]])"
      ]
     },
     "execution_count": 107,
     "metadata": {},
     "output_type": "execute_result"
    }
   ],
   "source": [
    "x = np.arange(4)\n",
    "y = np.ones(5)\n",
    "x.shape\n",
    "y.shape\n",
    "x=x.reshape(4,1)\n",
    "x+y\n"
   ]
  },
  {
   "cell_type": "raw",
   "metadata": {},
   "source": [
    "\n",
    "8. Write a 6x6 times table matrix:  total 12 points \n",
    "    - by using numpy broadcasting (6 points) \n",
    "    - by using Python nested for-loop (6 points).\n",
    "    "
   ]
  },
  {
   "cell_type": "code",
   "execution_count": 27,
   "metadata": {},
   "outputs": [
    {
     "data": {
      "text/plain": [
       "array([[ 1,  2,  3,  4,  5,  6],\n",
       "       [ 2,  4,  6,  8, 10, 12],\n",
       "       [ 3,  6,  9, 12, 15, 18],\n",
       "       [ 4,  8, 12, 16, 20, 24],\n",
       "       [ 5, 10, 15, 20, 25, 30],\n",
       "       [ 6, 12, 18, 24, 30, 36]])"
      ]
     },
     "execution_count": 27,
     "metadata": {},
     "output_type": "execute_result"
    }
   ],
   "source": [
    " import numpy as np\n",
    "a = np.arange(1,7,1)\n",
    "b=np.arange(1,7,1)\n",
    "a[:,np.newaxis] * b"
   ]
  },
  {
   "cell_type": "code",
   "execution_count": 24,
   "metadata": {},
   "outputs": [
    {
     "name": "stdout",
     "output_type": "stream",
     "text": [
      "  1  2  3  4  5  6  7  8  9 \n",
      "  2  4  6  8 10 12 14 16 18 \n",
      "  3  6  9 12 15 18 21 24 27 \n",
      "  4  8 12 16 20 24 28 32 36 \n",
      "  5 10 15 20 25 30 35 40 45 \n",
      "  6 12 18 24 30 36 42 48 54 \n",
      "  7 14 21 28 35 42 49 56 63 \n",
      "  8 16 24 32 40 48 56 64 72 \n",
      "  9 18 27 36 45 54 63 72 81 \n"
     ]
    }
   ],
   "source": [
    "for x in range(1, 10):\n",
    "    print( end=\" \")\n",
    "    for y in range(1, 10):\n",
    "        print(\"{:2d}\".format(x * y), end=\" \")\n",
    "    print()"
   ]
  },
  {
   "cell_type": "raw",
   "metadata": {},
   "source": [
    "\n",
    "9. Broadcasting in Practice: Centering an array:  16 points\n",
    "Imagine you have an array of 10 observations, each of which consists of 3 values(floating-point numbers). Store this in an array with the shape(10, 3).   - 4 points\n",
    "Compute the mean of each feature using the mean aggregate across the first dimension;  - 4 points\n",
    "Center the X array by subtracting the mean;  - 4 points\n",
    "Double-check the correctness of the centralization using the mean aggregate again (check that the centered array has near zero mean). - 4 points\n"
   ]
  },
  {
   "cell_type": "code",
   "execution_count": 21,
   "metadata": {},
   "outputs": [
    {
     "name": "stdout",
     "output_type": "stream",
     "text": [
      "\n",
      " The 10 observations are:\n",
      " [[0.4929736  0.69076127 0.06978828]\n",
      " [0.2198044  0.14937619 0.60116058]\n",
      " [0.19753989 0.05984632 0.30220728]\n",
      " [0.67721243 0.57786372 0.33072497]\n",
      " [0.83347888 0.27626911 0.26054764]\n",
      " [0.55994741 0.47821564 0.44597266]\n",
      " [0.15578562 0.50464619 0.25901892]\n",
      " [0.39217988 0.73357045 0.93686283]\n",
      " [0.77386297 0.40563389 0.59303314]\n",
      " [0.74649782 0.41422105 0.36024816]]\n",
      "\n",
      "The mean aggregate across the first dimension: [0.50492829 0.42904038 0.41595645]\n",
      "\n",
      "The centered array:\n",
      " [[-0.01195469  0.26172089 -0.34616817]\n",
      " [-0.28512389 -0.27966419  0.18520414]\n",
      " [-0.3073884  -0.36919407 -0.11374916]\n",
      " [ 0.17228414  0.14882334 -0.08523148]\n",
      " [ 0.32855059 -0.15277128 -0.15540881]\n",
      " [ 0.05501912  0.04917526  0.03001622]\n",
      " [-0.34914267  0.07560581 -0.15693753]\n",
      " [-0.11274841  0.30453006  0.52090638]\n",
      " [ 0.26893468 -0.02340649  0.17707669]\n",
      " [ 0.24156953 -0.01481933 -0.05570829]]\n",
      "\n",
      "The mean aggregate: [-1.11022302e-17  1.11022302e-17  2.22044605e-17]\n"
     ]
    }
   ],
   "source": [
    "import numpy as np\n",
    "x = np.random.random((10, 3)) #Part 1\n",
    "print(\"\\n The 10 observations are:\\n\",x) \n",
    "xmean = x.mean(0) #Part 2\n",
    "print(\"\\nThe mean aggregate across the first dimension:\",xmean) \n",
    "centered=x-xmean #Part 3\n",
    "print(\"\\nThe centered array:\\n\",centered)\n",
    "y=centered.mean(0) #Part 4\n",
    "print(\"\\nThe mean aggregate:\",y)"
   ]
  }
 ],
 "metadata": {
  "kernelspec": {
   "display_name": "Python 3",
   "language": "python",
   "name": "python3"
  },
  "language_info": {
   "codemirror_mode": {
    "name": "ipython",
    "version": 3
   },
   "file_extension": ".py",
   "mimetype": "text/x-python",
   "name": "python",
   "nbconvert_exporter": "python",
   "pygments_lexer": "ipython3",
   "version": "3.8.3"
  }
 },
 "nbformat": 4,
 "nbformat_minor": 4
}
